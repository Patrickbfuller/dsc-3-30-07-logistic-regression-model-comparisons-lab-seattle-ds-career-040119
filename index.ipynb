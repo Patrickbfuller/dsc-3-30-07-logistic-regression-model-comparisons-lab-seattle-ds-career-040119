{
 "cells": [
  {
   "cell_type": "markdown",
   "metadata": {},
   "source": [
    "## Logistic Regression Model Comparisons - Lab\n",
    "\n",
    "## Introduction\n",
    "\n",
    "In this lab, we will further investigate some comparisons between our personal logistic regression implementation, that of sci-kit learn and further tuning parameters that can be adjusted in the model.\n",
    "\n",
    "## Objectives\n",
    "\n",
    "* Understand and implement logistic regression\n",
    "* Compare logistic model outputs"
   ]
  },
  {
   "cell_type": "markdown",
   "metadata": {},
   "source": [
    "In the previous lab, we were able to recreat a logistic regression model output from sci-kit learn that did not include an intercept of regularization. Here, you will continue to analyze the impact of several tuning parameters including the intercept, and regularization parameter which we have not discussed previously."
   ]
  },
  {
   "cell_type": "markdown",
   "metadata": {},
   "source": [
    "## Importing the Data\n",
    "\n",
    "As with the previous lab, import the dataset stored in **heart.csv**"
   ]
  },
  {
   "cell_type": "code",
   "execution_count": 202,
   "metadata": {},
   "outputs": [
    {
     "data": {
      "text/html": [
       "<div>\n",
       "<style scoped>\n",
       "    .dataframe tbody tr th:only-of-type {\n",
       "        vertical-align: middle;\n",
       "    }\n",
       "\n",
       "    .dataframe tbody tr th {\n",
       "        vertical-align: top;\n",
       "    }\n",
       "\n",
       "    .dataframe thead th {\n",
       "        text-align: right;\n",
       "    }\n",
       "</style>\n",
       "<table border=\"1\" class=\"dataframe\">\n",
       "  <thead>\n",
       "    <tr style=\"text-align: right;\">\n",
       "      <th></th>\n",
       "      <th>age</th>\n",
       "      <th>sex</th>\n",
       "      <th>cp</th>\n",
       "      <th>trestbps</th>\n",
       "      <th>chol</th>\n",
       "      <th>fbs</th>\n",
       "      <th>restecg</th>\n",
       "      <th>thalach</th>\n",
       "      <th>exang</th>\n",
       "      <th>oldpeak</th>\n",
       "      <th>slope</th>\n",
       "      <th>ca</th>\n",
       "      <th>thal</th>\n",
       "      <th>target</th>\n",
       "    </tr>\n",
       "  </thead>\n",
       "  <tbody>\n",
       "    <tr>\n",
       "      <th>0</th>\n",
       "      <td>0.708333</td>\n",
       "      <td>1.0</td>\n",
       "      <td>1.000000</td>\n",
       "      <td>0.481132</td>\n",
       "      <td>0.244292</td>\n",
       "      <td>1.0</td>\n",
       "      <td>0.0</td>\n",
       "      <td>0.603053</td>\n",
       "      <td>0.0</td>\n",
       "      <td>0.370968</td>\n",
       "      <td>0.0</td>\n",
       "      <td>0.0</td>\n",
       "      <td>0.333333</td>\n",
       "      <td>1.0</td>\n",
       "    </tr>\n",
       "    <tr>\n",
       "      <th>1</th>\n",
       "      <td>0.166667</td>\n",
       "      <td>1.0</td>\n",
       "      <td>0.666667</td>\n",
       "      <td>0.339623</td>\n",
       "      <td>0.283105</td>\n",
       "      <td>0.0</td>\n",
       "      <td>0.5</td>\n",
       "      <td>0.885496</td>\n",
       "      <td>0.0</td>\n",
       "      <td>0.564516</td>\n",
       "      <td>0.0</td>\n",
       "      <td>0.0</td>\n",
       "      <td>0.666667</td>\n",
       "      <td>1.0</td>\n",
       "    </tr>\n",
       "  </tbody>\n",
       "</table>\n",
       "</div>"
      ],
      "text/plain": [
       "        age  sex        cp  trestbps      chol  fbs  restecg   thalach  exang  \\\n",
       "0  0.708333  1.0  1.000000  0.481132  0.244292  1.0      0.0  0.603053    0.0   \n",
       "1  0.166667  1.0  0.666667  0.339623  0.283105  0.0      0.5  0.885496    0.0   \n",
       "\n",
       "    oldpeak  slope   ca      thal  target  \n",
       "0  0.370968    0.0  0.0  0.333333     1.0  \n",
       "1  0.564516    0.0  0.0  0.666667     1.0  "
      ]
     },
     "execution_count": 202,
     "metadata": {},
     "output_type": "execute_result"
    }
   ],
   "source": [
    "#Your code here\n",
    "import pandas as pd\n",
    "df = pd.read_csv('heart.csv')\n",
    "df.head(2)"
   ]
  },
  {
   "cell_type": "markdown",
   "metadata": {},
   "source": [
    "## Problem Formulation\n",
    "\n",
    "Define X and y as with the previous lab. This time, follow best practices and also implementk a standard train-test split.  \n",
    "**For consistency of results, use random_state=17.**"
   ]
  },
  {
   "cell_type": "code",
   "execution_count": 203,
   "metadata": {},
   "outputs": [],
   "source": [
    "#Your code here\n",
    "y = df.pop('target')\n",
    "X = df\n",
    "from sklearn.model_selection import train_test_split\n",
    "X_train, X_test, y_train, y_test = train_test_split(X,y,random_state=17)"
   ]
  },
  {
   "cell_type": "markdown",
   "metadata": {},
   "source": [
    "## Initial Model - Personal Implementation\n",
    "\n",
    "Use your code from the previous lab to once again train a logistic regression algorithm on the training set."
   ]
  },
  {
   "cell_type": "code",
   "execution_count": 204,
   "metadata": {},
   "outputs": [],
   "source": [
    "# Your code here\n",
    "import numpy as np\n",
    "def sig_fn(x):\n",
    "    denom = 1 + np.exp(-x)\n",
    "    return 1 / denom\n",
    "def grad_desc(X, y, max_iterations, alpha, initial_weights=None):\n",
    "    if not initial_weights:\n",
    "        initial_weights = np.ones((X.shape[1],1)).flatten()\n",
    "    weights_df = pd.DataFrame(initial_weights)\n",
    "    for _ in range(max_iterations):\n",
    "        weights = initial_weights\n",
    "        preds = sig_fn(X @ weights)\n",
    "        resids = y - preds\n",
    "        gradient = np.dot(X.T, resids)\n",
    "        weights += alpha * gradient\n",
    "        weights_df = pd.concat([weights_df, pd.DataFrame(weights)], axis=1)\n",
    "    return weights, weights_df"
   ]
  },
  {
   "cell_type": "markdown",
   "metadata": {},
   "source": [
    "## Now use your algorithm to make [probability] predictions on the test set"
   ]
  },
  {
   "cell_type": "code",
   "execution_count": 205,
   "metadata": {},
   "outputs": [],
   "source": [
    "#Your code here\n",
    "weights = grad_desc(X_train,y_train,max_iterations=10000,alpha=0.00001)[0]"
   ]
  },
  {
   "cell_type": "code",
   "execution_count": 206,
   "metadata": {},
   "outputs": [
    {
     "data": {
      "text/plain": [
       "array([-0.3189997 , -0.84546903,  1.25306112,  0.15333097,  0.433272  ,\n",
       "        0.33804423,  0.69988647,  0.75685188, -0.75265321,  0.02451903,\n",
       "        0.66967755, -0.40057773, -0.6003216 ])"
      ]
     },
     "execution_count": 206,
     "metadata": {},
     "output_type": "execute_result"
    }
   ],
   "source": [
    "weights"
   ]
  },
  {
   "cell_type": "code",
   "execution_count": 207,
   "metadata": {},
   "outputs": [
    {
     "data": {
      "text/plain": [
       "((13,), (76, 13))"
      ]
     },
     "execution_count": 207,
     "metadata": {},
     "output_type": "execute_result"
    }
   ],
   "source": [
    "weights.shape, X_test. shape"
   ]
  },
  {
   "cell_type": "code",
   "execution_count": 208,
   "metadata": {
    "scrolled": true
   },
   "outputs": [
    {
     "data": {
      "text/plain": [
       "array([0.7061719 , 0.34720023, 0.35635787, 0.5117315 , 0.16638205,\n",
       "       0.89040435, 0.32408581, 0.74995838, 0.16229509, 0.53487214,\n",
       "       0.2931388 , 0.47329086, 0.51181491, 0.11695022, 0.78813708,\n",
       "       0.52508802, 0.617132  , 0.16566521, 0.7354526 , 0.21605381,\n",
       "       0.79731729, 0.87232083, 0.16607002, 0.47127494, 0.71147258,\n",
       "       0.57837388, 0.33025077, 0.30709511, 0.20106977, 0.22384026,\n",
       "       0.61995489, 0.15743233, 0.8426518 , 0.49483937, 0.40787505,\n",
       "       0.7906785 , 0.63718556, 0.3024621 , 0.49741009, 0.86579876,\n",
       "       0.69467198, 0.26211628, 0.187456  , 0.18778283, 0.68741956,\n",
       "       0.87630705, 0.73936754, 0.6682129 , 0.21411359, 0.13432966,\n",
       "       0.76078725, 0.15190134, 0.19931901, 0.6521239 , 0.63100647,\n",
       "       0.14892846, 0.57305473, 0.70063923, 0.51560702, 0.84376934,\n",
       "       0.57834744, 0.216332  , 0.78437726, 0.37834349, 0.67185716,\n",
       "       0.2283732 , 0.76969053, 0.83839758, 0.17095768, 0.3680208 ,\n",
       "       0.42933296, 0.29381032, 0.85042925, 0.191974  , 0.68567255,\n",
       "       0.86060087])"
      ]
     },
     "execution_count": 208,
     "metadata": {},
     "output_type": "execute_result"
    }
   ],
   "source": [
    "preds = sig_fn(np.dot(X_test, weights))\n",
    "preds"
   ]
  },
  {
   "cell_type": "markdown",
   "metadata": {},
   "source": [
    "## Create an ROC curve for your predictions"
   ]
  },
  {
   "cell_type": "code",
   "execution_count": 209,
   "metadata": {},
   "outputs": [],
   "source": [
    "#Your code here\n",
    "from sklearn.metrics import roc_curve, auc\n",
    "import matplotlib.pyplot as plt\n",
    "plt.style.use('seaborn')"
   ]
  },
  {
   "cell_type": "code",
   "execution_count": 210,
   "metadata": {},
   "outputs": [],
   "source": [
    "fpr1, tpr1, thresholds1 = roc_curve(y_test, preds)"
   ]
  },
  {
   "cell_type": "code",
   "execution_count": 211,
   "metadata": {},
   "outputs": [
    {
     "data": {
      "text/plain": [
       "[<matplotlib.lines.Line2D at 0x7f6a41792048>]"
      ]
     },
     "execution_count": 211,
     "metadata": {},
     "output_type": "execute_result"
    },
    {
     "data": {
      "image/png": "[encoded data removed]",
      "text/plain": [
       "<Figure size 576x396 with 1 Axes>"
      ]
     },
     "metadata": {},
     "output_type": "display_data"
    }
   ],
   "source": [
    "plt.plot(fpr1,tpr1, c='magenta')\n",
    "plt.plot([0,1],[0,1], linestyle='-.', lw=3)"
   ]
  },
  {
   "cell_type": "markdown",
   "metadata": {},
   "source": [
    "## Update your ROC curve to not only include a graph of the test set, but one of the train set"
   ]
  },
  {
   "cell_type": "code",
   "execution_count": 212,
   "metadata": {},
   "outputs": [],
   "source": [
    "# Your code here\n",
    "preds_train = sig_fn(np.dot(X_train, weights))\n",
    "fpr2, tpr2, thresholds2 = roc_curve(y_train, preds_train)"
   ]
  },
  {
   "cell_type": "code",
   "execution_count": 213,
   "metadata": {},
   "outputs": [
    {
     "data": {
      "image/png": "[encoded data removed]",
      "text/plain": [
       "<Figure size 576x396 with 1 Axes>"
      ]
     },
     "metadata": {},
     "output_type": "display_data"
    }
   ],
   "source": [
    "plt.plot(fpr,tpr, c='magenta', label='test')\n",
    "plt.plot([0,1],[0,1], linestyle='-.', lw=3)\n",
    "plt.plot(fpr2,tpr2, c='teal', label='train')\n",
    "\n",
    "plt.title('ROC Curve')\n",
    "plt.xlabel('False Positive Rate')\n",
    "plt.ylabel('True Positive Rate')\n",
    "plt.legend();"
   ]
  },
  {
   "cell_type": "markdown",
   "metadata": {},
   "source": [
    "## Create a confusion matrix for your predictions\n",
    "\n",
    "Use a standard decision boundary of .5 to convert your probabilities output by logistic regression into binary classifications. (Again this should be for the test set.) Afterwards, feel free to use the built in sci-kit learn methods to compute the confusion matrix as we discussed in previous sections."
   ]
  },
  {
   "cell_type": "code",
   "execution_count": 214,
   "metadata": {},
   "outputs": [
    {
     "data": {
      "text/plain": [
       "[(0.0, 0.7061719036131007, 1.0),\n",
       " (0.0, 0.3472002305832205, 0.0),\n",
       " (0.0, 0.35635787019261134, 0.0),\n",
       " (0.0, 0.5117314966276835, 1.0),\n",
       " (0.0, 0.1663820540682486, 0.0),\n",
       " (1.0, 0.8904043458052812, 1.0),\n",
       " (0.0, 0.3240858126020328, 0.0),\n",
       " (1.0, 0.749958378622226, 1.0),\n",
       " (0.0, 0.16229509110567483, 0.0),\n",
       " (1.0, 0.5348721381983695, 1.0)]"
      ]
     },
     "execution_count": 214,
     "metadata": {},
     "output_type": "execute_result"
    }
   ],
   "source": [
    "# Your code here\n",
    "list(zip(y_test, preds, [round(pred)for pred in preds]))[:10]"
   ]
  },
  {
   "cell_type": "code",
   "execution_count": 215,
   "metadata": {},
   "outputs": [],
   "source": [
    "bool_preds = [round(pred)for pred in preds]"
   ]
  },
  {
   "cell_type": "code",
   "execution_count": 216,
   "metadata": {},
   "outputs": [],
   "source": [
    "y_w_preds = list(zip(y_test, bool_preds))\n",
    "tp = sum([1for y,p in y_w_preds if y==1 and p==1])\n",
    "fp = sum([1for y,p in y_w_preds if y==0 and p==1])\n",
    "tn = sum([1for y,p in y_w_preds if y==0 and p==0])\n",
    "fn = sum([1for y,p in y_w_preds if y==1 and p==0])"
   ]
  },
  {
   "cell_type": "code",
   "execution_count": 217,
   "metadata": {},
   "outputs": [
    {
     "data": {
      "text/plain": [
       "(76, 76)"
      ]
     },
     "execution_count": 217,
     "metadata": {},
     "output_type": "execute_result"
    }
   ],
   "source": [
    "len(y_w_preds), tp+fp+tn+fn"
   ]
  },
  {
   "cell_type": "code",
   "execution_count": 218,
   "metadata": {},
   "outputs": [],
   "source": [
    "cf = np.array([[tn,fp],[fn,tp]])"
   ]
  },
  {
   "cell_type": "code",
   "execution_count": 219,
   "metadata": {},
   "outputs": [],
   "source": [
    "import itertools"
   ]
  },
  {
   "cell_type": "code",
   "execution_count": 220,
   "metadata": {},
   "outputs": [
    {
     "name": "stdout",
     "output_type": "stream",
     "text": [
      "0 0\n",
      "0 1\n",
      "1 0\n",
      "1 1\n"
     ]
    }
   ],
   "source": [
    "for i,j in itertools.product(range(2),range(2)):\n",
    "    print(i,j)"
   ]
  },
  {
   "cell_type": "code",
   "execution_count": 221,
   "metadata": {},
   "outputs": [
    {
     "name": "stdout",
     "output_type": "stream",
     "text": [
      "[[32  9]\n",
      " [ 5 30]]\n"
     ]
    },
    {
     "data": {
      "image/png": "[encoded data removed]",
      "text/plain": [
       "<Figure size 576x396 with 2 Axes>"
      ]
     },
     "metadata": {},
     "output_type": "display_data"
    },
    {
     "name": "stdout",
     "output_type": "stream",
     "text": [
      "False Neg: 5, True Pos: 30, True Neg: 32, False Pos: 9\n"
     ]
    }
   ],
   "source": [
    "print(cf)\n",
    "plt.set_cmap('Blues')\n",
    "plt.imshow(cf)\n",
    "plt.colorbar()\n",
    "plt.xticks(np.arange(2))\n",
    "plt.yticks(np.arange(2))\n",
    "plt.title('Confusion Matrix')\n",
    "plt.xlabel('Predicted Labels')\n",
    "plt.ylabel('True Labels')\n",
    "plt.grid()\n",
    "thresh = cf.max()/2\n",
    "for i,j in itertools.product(range(2),range(2)):\n",
    "    val = cf[i,j]\n",
    "    plt.text(j,i, val, \n",
    "                color='white' if val>thresh else 'black',\n",
    "                size=15,)\n",
    "plt.show()\n",
    "print(f'False Neg: {fn}, True Pos: {tp}, True Neg: {tn}, False Pos: {fp}')"
   ]
  },
  {
   "cell_type": "markdown",
   "metadata": {},
   "source": [
    "\n",
    "## Initial Model - sci-kit learn\n",
    "\n",
    "Do the same using the built in method from sci-kit learn. To start, create an identical model as you did in the last section; turn off the intercept and set the regularization parameter, C, to a ridiculously large number such as 1e16. "
   ]
  },
  {
   "cell_type": "code",
   "execution_count": 1,
   "metadata": {},
   "outputs": [],
   "source": [
    "# Your code here\n",
    "from sklearn.linear_model import LogisticRegression"
   ]
  },
  {
   "cell_type": "code",
   "execution_count": 223,
   "metadata": {},
   "outputs": [],
   "source": [
    "model = LogisticRegression(C=1e16,solver='lbfgs', max_iter=10000, fit_intercept=False)"
   ]
  },
  {
   "cell_type": "code",
   "execution_count": 224,
   "metadata": {},
   "outputs": [
    {
     "data": {
      "text/plain": [
       "LogisticRegression(C=1e+16, class_weight=None, dual=False,\n",
       "          fit_intercept=False, intercept_scaling=1, max_iter=10000,\n",
       "          multi_class='warn', n_jobs=None, penalty='l2', random_state=None,\n",
       "          solver='lbfgs', tol=0.0001, verbose=0, warm_start=False)"
      ]
     },
     "execution_count": 224,
     "metadata": {},
     "output_type": "execute_result"
    }
   ],
   "source": [
    "model.fit(X_train, y_train)"
   ]
  },
  {
   "cell_type": "code",
   "execution_count": null,
   "metadata": {},
   "outputs": [],
   "source": []
  },
  {
   "cell_type": "markdown",
   "metadata": {},
   "source": [
    "## Create an ROC Curve for the sci-kit learn model"
   ]
  },
  {
   "cell_type": "code",
   "execution_count": 225,
   "metadata": {},
   "outputs": [],
   "source": [
    "#Your code here\n",
    "y_score = model.decision_function(X_test)"
   ]
  },
  {
   "cell_type": "code",
   "execution_count": 226,
   "metadata": {},
   "outputs": [],
   "source": [
    "fpr3, tpr3, thresholds3 = roc_curve(y_test, y_score)"
   ]
  },
  {
   "cell_type": "markdown",
   "metadata": {},
   "source": [
    "## As before add an ROC curve to the graph for the train set as well"
   ]
  },
  {
   "cell_type": "code",
   "execution_count": 227,
   "metadata": {},
   "outputs": [],
   "source": [
    "#Your code here\n",
    "y_score_train = model.decision_function(X_train)\n",
    "fpr4, tpr4, thresholds4 = roc_curve(y_train, y_score_train)"
   ]
  },
  {
   "cell_type": "code",
   "execution_count": 228,
   "metadata": {},
   "outputs": [
    {
     "data": {
      "text/plain": [
       "<matplotlib.legend.Legend at 0x7f6a40fb7550>"
      ]
     },
     "execution_count": 228,
     "metadata": {},
     "output_type": "execute_result"
    },
    {
     "data": {
      "image/png": "[encoded data removed]",
      "text/plain": [
       "<Figure size 864x576 with 1 Axes>"
      ]
     },
     "metadata": {},
     "output_type": "display_data"
    }
   ],
   "source": [
    "plt.figure(figsize=(12,8))\n",
    "plt.plot(fpr3,tpr3, label='test')\n",
    "plt.plot(fpr4,tpr4, label='train')\n",
    "plt.plot([0,1],[0,1], linestyle=':')\n",
    "plt.legend()"
   ]
  },
  {
   "cell_type": "markdown",
   "metadata": {},
   "source": [
    "## Adding an Intercept\n",
    "\n",
    "Now add an intercept to the sci-kit learn model. Keep the regularization parameter C set to a very large number such as 1e16. Plot all three models ROC curves on the same graph."
   ]
  },
  {
   "cell_type": "code",
   "execution_count": 200,
   "metadata": {},
   "outputs": [],
   "source": [
    "# Your code here\n",
    "model = LogisticRegression(C=1e16, solver='lbfgs')\n",
    "model.fit(X_train,y_train)\n",
    "y_score = model.decision_function(X_test)\n",
    "fpr5, tpr5, thresholds5 = roc_curve(y_test, y_score)"
   ]
  },
  {
   "cell_type": "code",
   "execution_count": 240,
   "metadata": {},
   "outputs": [
    {
     "data": {
      "image/png": "[encoded data removed]",
      "text/plain": [
       "<Figure size 864x576 with 1 Axes>"
      ]
     },
     "metadata": {},
     "output_type": "display_data"
    }
   ],
   "source": [
    "plt.figure(figsize=(12,8))\n",
    "plt.plot(fpr,tpr, label='test')\n",
    "plt.plot(fpr2,tpr2, label='train')\n",
    "plt.plot(fpr3,tpr3, label='test(skl)')\n",
    "plt.plot(fpr4,tpr4, label='train(skl)')\n",
    "plt.plot(fpr5,tpr5, label='test(skl)wINT')\n",
    "plt.plot([0,1],[0,1], linestyle=':')\n",
    "\n",
    "plt.title('ROC Curve')\n",
    "plt.xlabel('False Positive Rate')\n",
    "plt.ylabel('True Positive Rate')\n",
    "plt.legend();"
   ]
  },
  {
   "cell_type": "markdown",
   "metadata": {},
   "source": [
    "## Altering the Regularization Parameter\n",
    "\n",
    "Now, experiment with altering the regularization parameter. At minimum, create 5 different subplots with varying regularization (C) parameters. For each, plot the ROC curve of the train and test set for that specific model.  \n",
    "\n",
    "Regularization parameters between 1 and 20 are recommended. Observe the difference in test and train auc as you go along."
   ]
  },
  {
   "cell_type": "code",
   "execution_count": 239,
   "metadata": {},
   "outputs": [
    {
     "name": "stdout",
     "output_type": "stream",
     "text": [
      "1\n",
      "4\n",
      "7\n",
      "10\n",
      "13\n",
      "16\n",
      "19\n"
     ]
    },
    {
     "data": {
      "image/png": "[encoded data removed]",
      "text/plain": [
       "<Figure size 576x396 with 1 Axes>"
      ]
     },
     "metadata": {},
     "output_type": "display_data"
    }
   ],
   "source": [
    "# Your code here\n",
    "for reg_param in range(1,21,3):\n",
    "    print(reg_param)\n",
    "    model = LogisticRegression(C=reg_param, solver='lbfgs')\n",
    "    model.fit(X_train,y_train)\n",
    "    y_score = model.decision_function(X_test)\n",
    "    fpr, tpr, thresholds = roc_curve(y_test, y_score)\n",
    "    plt.plot(fpr,tpr,label=f'C={reg_param}')\n",
    "    \n",
    "plt.plot(fpr3,tpr3, label='test(skl)',alpha=.3)\n",
    "\n",
    "plt.plot([0,1],[0,1], linestyle=':')\n",
    "plt.title('ROC Curve')\n",
    "plt.xlabel('False Positive Rate')\n",
    "plt.ylabel('True Positive Rate')\n",
    "plt.legend();"
   ]
  },
  {
   "cell_type": "markdown",
   "metadata": {},
   "source": [
    "## Comment on how the Regularization Parameter Impacts the ROC curves plotted above"
   ]
  },
  {
   "cell_type": "markdown",
   "metadata": {},
   "source": [
    "#Your response here"
   ]
  },
  {
   "cell_type": "markdown",
   "metadata": {},
   "source": [
    "## Summary\n",
    "\n",
    "In this lesson, we reviewed many of the accuracy measures of classification algorithms and observed the impact of additional tuning parameters such as regularization."
   ]
  }
 ],
 "metadata": {
  "kernelspec": {
   "display_name": "Python 3",
   "language": "python",
   "name": "python3"
  },
  "language_info": {
   "codemirror_mode": {
    "name": "ipython",
    "version": 3
   },
   "file_extension": ".py",
   "mimetype": "text/x-python",
   "name": "python",
   "nbconvert_exporter": "python",
   "pygments_lexer": "ipython3",
   "version": "3.6.6"
  }
 },
 "nbformat": 4,
 "nbformat_minor": 2
}
